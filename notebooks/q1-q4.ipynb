{
  "nbformat": 4,
  "nbformat_minor": 0,
  "metadata": {
    "colab": {
      "provenance": []
    },
    "kernelspec": {
      "name": "python3",
      "display_name": "Python 3"
    },
    "language_info": {
      "name": "python"
    }
  },
  "cells": [
    {
      "cell_type": "code",
      "execution_count": 31,
      "metadata": {
        "id": "YDT4PPaNyGTp"
      },
      "outputs": [],
      "source": [
        "import numpy as np\n",
        "from scipy.optimize import linprog\n",
        "\n",
        "def generate_bids(n, m, p_bar):\n",
        "    \"\"\"\n",
        "    Generate a sequence of random bids.\n",
        "    :param n: Total number of bids.\n",
        "    :param m: Number of items.\n",
        "    :param p_bar: Ground truth price vector.\n",
        "    :return: Array of bids.\n",
        "    \"\"\"\n",
        "    bids = []\n",
        "    for _ in range(n):\n",
        "        a_k = np.random.choice([0, 1], size=m)  # Generate a_k\n",
        "        pi_k = np.dot(p_bar, a_k) + np.random.normal(0, np.sqrt(0.2))  # Calculate bid price\n",
        "        bids.append((a_k, pi_k))\n",
        "    return bids\n",
        "\n",
        "def solve_offline_lp(bids, m, b_i):\n",
        "    c = -np.array([pi_k for _, pi_k in bids])  # Negative for maximization\n",
        "    A = np.array([a_k for a_k, _ in bids]).T  # Transpose to match dimensions\n",
        "    b = b_i * np.ones(m)\n",
        "\n",
        "    # Solving the LP\n",
        "    result = linprog(c, A_ub=A, b_ub=b, bounds=(0, 1), method='highs')\n",
        "\n",
        "    if result.success:\n",
        "        return -result.fun  # Revenue (negate because of maximization)\n",
        "    else:\n",
        "        raise ValueError(\"Offline LP did not converge\")\n",
        "\n",
        "def solve_partial_lp_dual(bids, k, n, b_i):\n",
        "    # Objective function: maximize sum(pi_j * x_j) for j=1 to k\n",
        "    c = -np.array([pi_k for _, pi_k in bids[:k]])\n",
        "\n",
        "    # Constraints: sum(a_ij * x_j) <= (k/n) * b_i for all i\n",
        "    A = np.array([a_k for a_k, _ in bids[:k]]).T\n",
        "    b = (k / n) * np.array(b_i)\n",
        "\n",
        "    # Bounds for decision variables: 0 <= x_j <= 1\n",
        "    x_bounds = [(0, 1) for _ in range(k)]\n",
        "\n",
        "    # Solve the linear program\n",
        "    result = linprog(c, A_ub=A, b_ub=b, bounds=x_bounds, method='highs')\n",
        "\n",
        "    # print(result.ineqlin.get('marginals'))\n",
        "\n",
        "    if result.success:\n",
        "        # The dual variable corresponding to the inequality constraints A_ub * x <= b_ub\n",
        "        return result.get('slack'), -1*result.ineqlin.get('marginals'), result.get('fun')\n",
        "    else:\n",
        "        raise ValueError(\"failed to find a solution\")"
      ]
    },
    {
      "cell_type": "code",
      "source": [
        "perf_dynamic_slpm = []\n",
        "perf_ahdla = []\n",
        "revenues = {}\n",
        "\n",
        "n = 10000  # Total number of bids\n",
        "m = 10     # Number of items\n",
        "b_i = np.ones(m) * 1000  # Bid cap for all i\n",
        "# Fixed ground truth price vector (p_bar) - set to ones for simplicity\n",
        "p_bar = np.ones(m)  # Vector of ones\n",
        "k_values = [50, 100, 200]  # Different k values to test\n",
        "# Regenerate bids with the fixed p_bar\n",
        "bids_fixed = generate_bids(n, m, p_bar)\n",
        "\n",
        "# offline\n",
        "offline_revenue_value = solve_offline_lp(bids_fixed, m, b_i)\n",
        "print(f\"Offline revenue: {offline_revenue_value}\")"
      ],
      "metadata": {
        "colab": {
          "base_uri": "https://localhost:8080/"
        },
        "id": "V6blivPuUqqF",
        "outputId": "e5b2c37a-6a2c-4f66-9726-d292430abd91"
      },
      "execution_count": 32,
      "outputs": [
        {
          "output_type": "stream",
          "name": "stdout",
          "text": [
            "Offline revenue: 11312.492401325151\n"
          ]
        }
      ]
    },
    {
      "cell_type": "code",
      "source": [
        "# Problem 1\n",
        "def run_slpm_static(bids, k, n, b_i):\n",
        "    revenue = 0\n",
        "    remaining_capacity = np.array(b_i)\n",
        "    # Solve the partial LP for the first k bids to get dual prices\n",
        "    slack, dual_price, k_revenue = solve_partial_lp_dual(bids, k, n, b_i)\n",
        "    # revenue += -k_revenue\n",
        "    # remaining_capacity = np.array(b_i-((k/n)*b_i-slack))\n",
        "\n",
        "    for i, (a_k, pi_k) in enumerate(bids):\n",
        "        if i >= k:\n",
        "            # Allocate based on the decision rule using y_bar\n",
        "            if pi_k > np.dot(a_k, dual_price) and all(remaining_capacity - a_k >= 0):\n",
        "                revenue += pi_k\n",
        "                remaining_capacity -= a_k\n",
        "\n",
        "    return revenue\n",
        "\n",
        "for k in k_values:\n",
        "    revenue = run_slpm_static(bids_fixed, k, n, b_i)\n",
        "    revenues[k] = revenue\n",
        "\n",
        "for slpm_revenue, k in zip(revenues.values(), k_values):\n",
        "    print(f\"SLPM Static revenue: {slpm_revenue} at k={k}\")"
      ],
      "metadata": {
        "colab": {
          "base_uri": "https://localhost:8080/"
        },
        "id": "RFr4T2zRUtqP",
        "outputId": "6424e004-0255-4b67-b8be-fb9240a7b5a5"
      },
      "execution_count": 33,
      "outputs": [
        {
          "output_type": "stream",
          "name": "stdout",
          "text": [
            "SLPM Static revenue: 9423.49276434075 at k=50\n",
            "SLPM Static revenue: 8983.917563812547 at k=100\n",
            "SLPM Static revenue: 10051.354283449951 at k=200\n"
          ]
        }
      ]
    },
    {
      "cell_type": "markdown",
      "source": [
        "The increase in revenue as k grows suggests that having more bidder information upfront (i.e., a larger k) allows the algorithm to make more informed decisions which result in higher revenue.\n",
        "\n",
        "It may have two tradeoffs here, one is tradeoff between cost of computation and accuracy, since with a large k we will need more compuration resources. Another tradeoff is that a larger k implies a delay in decision-making since more bids must be collected before making allocations, which could be a trade-off in real-time scenarios.\n"
      ],
      "metadata": {
        "id": "Rr6idxluV1So"
      }
    },
    {
      "cell_type": "code",
      "source": [
        "# Problem 2\n",
        "def run_slpm_dynamic(bids, k, n, b_i, offline_revenue_value):\n",
        "    global diff_dplm\n",
        "    revenue = 0\n",
        "    remaining_capacity = np.array(b_i)\n",
        "\n",
        "    # Solve the partial LP for the first k bids to get dual prices\n",
        "    slack, dual_price, k_revenue = solve_partial_lp_dual(bids, k, n, b_i)\n",
        "    print(f\"i={k}\\ndual price: {dual_price}\")\n",
        "\n",
        "    target = 2*k\n",
        "\n",
        "    for i, (a_k, pi_k) in enumerate(bids):\n",
        "        if i >= k:\n",
        "            if i == target:\n",
        "                slack, dual_price, _ = solve_partial_lp_dual(bids, target, n, b_i)\n",
        "                print(f\"i={i}\\ndual price: {dual_price}\")\n",
        "                target *= 2\n",
        "            # Allocate based on the decision rule using y_bar\n",
        "            if pi_k > np.dot(a_k, dual_price) and all(remaining_capacity - a_k >= 0):\n",
        "                revenue += pi_k\n",
        "                remaining_capacity -= a_k\n",
        "            perf_dynamic_slpm.append(revenue-((i+1)/n)*offline_revenue_value)\n",
        "\n",
        "\n",
        "    return revenue\n",
        "\n",
        "revenue = run_slpm_dynamic(bids_fixed, 50, n, b_i, offline_revenue_value)\n",
        "print(f\"SLPM Dynamic revenue: {revenue}\")"
      ],
      "metadata": {
        "colab": {
          "base_uri": "https://localhost:8080/"
        },
        "id": "nclcty1tUwj8",
        "outputId": "7cebaf4b-7629-4a54-ca09-6256157ae87d"
      },
      "execution_count": 34,
      "outputs": [
        {
          "output_type": "stream",
          "name": "stdout",
          "text": [
            "i=50\n",
            "dual price: [0.88491677 1.09396077 1.41107317 1.32719615 0.9998923  1.19161588\n",
            " 1.057338   0.85257739 0.48138874 0.89137056]\n",
            "i=100\n",
            "dual price: [0.7639446  1.12288168 1.13240578 1.06072602 1.24343778 0.75718131\n",
            " 1.21093843 1.02936733 0.85190305 1.29291199]\n",
            "i=200\n",
            "dual price: [1.00479909 1.03334461 1.11366267 1.04129026 1.11528736 0.9246298\n",
            " 0.97376202 1.21458549 0.95116067 1.27235704]\n",
            "i=400\n",
            "dual price: [1.02126168 1.0046499  1.1032581  1.03170512 1.05198258 0.93210437\n",
            " 1.00789511 1.18256298 1.09956477 1.1491772 ]\n",
            "i=800\n",
            "dual price: [1.10766248 1.04555501 1.14955738 1.02551813 1.06015404 1.05537855\n",
            " 1.01811383 1.05525708 1.04921059 1.06302947]\n",
            "i=1600\n",
            "dual price: [1.04388764 1.07582885 1.16556891 1.08540075 1.04795455 1.05328224\n",
            " 1.00964954 1.05144504 1.05335659 1.09404349]\n",
            "i=3200\n",
            "dual price: [1.05000085 1.06243157 1.10253013 1.09060167 1.05702651 1.05846012\n",
            " 1.04647594 1.06018906 1.05125301 1.0981574 ]\n",
            "i=6400\n",
            "dual price: [1.04171665 1.06390252 1.10850432 1.06903605 1.08232444 1.06725697\n",
            " 1.06309568 1.05876676 1.06079945 1.08638788]\n",
            "SLPM Dynamic revenue: 10996.876711145313\n"
          ]
        }
      ]
    },
    {
      "cell_type": "markdown",
      "source": [
        "In this question, instead of using a fixed dual price, we update our dual price on k= [50, 100, 200, 400, 800, ...], and using this stratege, we can get better performance than with fixed dual price, 10905.843288804756 compare to revenue in question above.\n",
        "\n",
        "Also we print all dual price on each update time point. As we can see, it approches to the ground true price p = [1,1,...,1,1] we set before."
      ],
      "metadata": {
        "id": "QFAHdmSyWJpf"
      }
    },
    {
      "cell_type": "code",
      "source": [
        "# Problem 3\n",
        "def run_ahdla(bids, k, n, b_i, offline_revenue_value):\n",
        "    global diff_ahdla\n",
        "    batch = 50\n",
        "    revenue = 0\n",
        "    dual_price = np.zeros(m)\n",
        "    remaining_capacity = b_i\n",
        "    target = batch*k\n",
        "\n",
        "    for i, (a_k, pi_k) in enumerate(bids):\n",
        "        # Allocate based on the decision rule using y_bar\n",
        "        if pi_k > np.dot(a_k, dual_price) and all(remaining_capacity - a_k >= 0):\n",
        "            revenue += pi_k\n",
        "            remaining_capacity -= a_k\n",
        "        perf_ahdla.append(revenue-((i+1)/n)*offline_revenue_value)\n",
        "        if i == target and i < n-1:\n",
        "            _, dual_price, _ = solve_partial_lp_dual(bids, i+1, n, (n/(n-i-1))*remaining_capacity)\n",
        "            if i % 1000 == 0:\n",
        "                print(f\"i={i}\\ndual price: {dual_price}\")\n",
        "            target += batch\n",
        "\n",
        "    return revenue\n",
        "\n",
        "revenue = run_ahdla(bids_fixed, 1, n, b_i, offline_revenue_value)\n",
        "print(f\"Action-history-dependent Learning Algorithm revenue: {revenue}\")"
      ],
      "metadata": {
        "colab": {
          "base_uri": "https://localhost:8080/"
        },
        "id": "CowYaNqZUx77",
        "outputId": "58adef8b-4d1c-499c-f36f-1718f215d702"
      },
      "execution_count": 35,
      "outputs": [
        {
          "output_type": "stream",
          "name": "stdout",
          "text": [
            "i=1000\n",
            "dual price: [1.09157935 1.08592957 1.14891369 1.08582954 1.02110046 1.04722526\n",
            " 1.02637201 1.04896519 1.06192431 1.05896325]\n",
            "i=2000\n",
            "dual price: [1.04248313 1.07167883 1.14851722 1.08768912 1.03299975 1.05705393\n",
            " 1.04620513 1.05832449 1.0340698  1.11287801]\n",
            "i=3000\n",
            "dual price: [1.05205964 1.07175377 1.09502561 1.08279849 1.04880256 1.07931298\n",
            " 1.07103537 1.06417773 1.05335659 1.10047727]\n",
            "i=4000\n",
            "dual price: [1.04438653 1.06535137 1.08928452 1.09144774 1.06965476 1.06384572\n",
            " 1.07875102 1.06268189 1.04195222 1.09178549]\n",
            "i=5000\n",
            "dual price: [1.03211084 1.0779157  1.06211188 1.08539227 1.09007181 1.09728201\n",
            " 1.08258659 1.05879774 1.04692652 1.0739885 ]\n",
            "i=6000\n",
            "dual price: [1.04325671 1.04578243 1.07825323 1.053795   1.10953241 1.1276712\n",
            " 1.08885862 1.05297108 1.07443228 1.06461251]\n",
            "i=7000\n",
            "dual price: [1.01935069 1.06423617 1.0898612  1.10058056 1.09556867 1.09284747\n",
            " 1.08396007 1.04746195 1.07523748 1.06651828]\n",
            "i=8000\n",
            "dual price: [1.03761885 1.08237367 1.04645869 1.07842057 1.11168905 1.1309867\n",
            " 1.07354684 1.06646696 1.06798709 1.03153403]\n",
            "i=9000\n",
            "dual price: [1.03221843 1.17841573 0.99800219 1.05604418 1.15713418 1.08895189\n",
            " 1.07973475 1.10105623 1.02328641 1.0465833 ]\n",
            "Action-history-dependent Learning Algorithm revenue: 11249.504994060268\n"
          ]
        }
      ]
    },
    {
      "cell_type": "code",
      "source": [
        "print(f\"Performance of Dynamic SLPM Algorithm: {perf_dynamic_slpm[-20:]}\") # print first 20 results\n",
        "print(f\"Performance of Action-history-dependent Learning Algorithm: {perf_ahdla[-20:]}\") # print first 20 results"
      ],
      "metadata": {
        "colab": {
          "base_uri": "https://localhost:8080/"
        },
        "id": "gTQtvRuYf0Wv",
        "outputId": "c6a50a4b-f7ba-4817-91b9-4e8b3c3cb0ab"
      },
      "execution_count": 36,
      "outputs": [
        {
          "output_type": "stream",
          "name": "stdout",
          "text": [
            "Performance of Dynamic SLPM Algorithm: [-294.12195461732153, -295.2532038574536, -296.3844530975857, -297.5157023377178, -298.6469515778517, -299.7782008179838, -300.9094500581159, -302.040699298248, -303.1719485383819, -304.303197778514, -305.4344470186461, -306.5656962587782, -307.6969454989103, -308.8281947390424, -309.9594439791763, -311.0906932193084, -312.2219424594423, -313.3531916995744, -314.4844409397065, -315.61569017983857]\n",
            "Performance of Action-history-dependent Learning Algorithm: [-41.493671702366555, -42.62492094249865, -43.75617018263074, -44.88741942276283, -46.018668662896744, -47.149917903028836, -48.28116714316093, -49.41241638329302, -50.54366562342693, -51.674914863559025, -52.80616410369112, -53.93741334382321, -55.0686625839553, -56.199911824087394, -57.331161064221305, -58.4624103043534, -59.59365954448731, -60.7249087846194, -61.856158024751494, -62.987407264883586]\n"
          ]
        }
      ]
    },
    {
      "cell_type": "markdown",
      "source": [
        "In Action-history-dependent Learning Algorithm, instead of updating dual price in a frequency of [50, 100, 200, ...], we update it for each batch, we set 50 here. And as we can see, the revenue is higher than what we got from problem 2.\n",
        "\n",
        "Hence Action-history-dependent Learning Algorithm have better performance. Becuase it also update with remaining capacity information.\n",
        "\n",
        "As we can see in the difference vector, compared with problem 2, (see result on problem2), Action-history-dependent Learning Algorithm is closer to partial of optimal solution at each time point."
      ],
      "metadata": {
        "id": "rTKOukdmWp50"
      }
    },
    {
      "cell_type": "markdown",
      "source": [
        "# Problem 4\n",
        "## Convexity\n",
        "\n",
        "The Formulation (3) in question is as follows:\n",
        "\n",
        "\\begin{align*}\n",
        "\\text{minimize}_{\\bar{\\mathbf{y}}} \\; & \\;\\mathbf{d}^T \\bar{\\mathbf{y}} + \\mathbb{E}\\left(\\pi - \\mathbf{a}^T \\bar{\\mathbf{y}}\\right)^+ \\\\\n",
        "\\text{s.t. } & \\bar{\\mathbf{y}} \\geq 0\n",
        "\\end{align*}\n",
        "\n",
        "where $\\mathbf{d} = \\frac{\\mathbf{b}}{n}$ and $(\\cdot)^+ = \\max \\{\\cdot, 0\\}$.\n",
        "\n",
        "To identify whether (3) is a convex optimization problem or not, we can analyze each part of (3) separately.\n",
        "\n",
        "For the first part $\\mathbf{d}^T \\bar{\\mathbf{y}}$ of (3), $\\mathbf{d}^T \\bar{\\mathbf{y}}$ is liner in $\\bar{\\mathbf{y}}$. We know that linear functions are both convex and concave.\n",
        "\n",
        "For the second part $\\mathbb{E}\\left(\\pi - \\mathbf{a}^T \\bar{\\mathbf{y}}\\right)^+$, since $\\pi - \\mathbf{a}^T \\bar{\\mathbf{y}}$ is linear in $\\bar{\\mathbf{y}}$. What $(\\cdot)^+$ does is to get maximum value between this linear function and zero, since both of them are convex, $\\left(\\pi - \\mathbf{a}^T \\bar{\\mathbf{y}}\\right)^+$ is also convex. The last part we need to consider is the expectation. From Jensen's inequality:\n",
        "\n",
        "$$\\mathbb{E}[f(X)]≥f(\\mathbb{E}[X])$$\n",
        "\n",
        "we know that if $f(x)$ is convex, then $\\mathbb{E}[f(x)]$ is also convex. Therefore, $\\mathbb{E}\\left(\\pi - \\mathbf{a}^T \\bar{\\mathbf{y}}\\right)^+$ is convex.\n",
        "\n",
        "Since both parts of (3) are convex, we know that (3) is a convex optimization problem.\n",
        "\n",
        "## Connection\n",
        "\n",
        "The dual problem of (1) is:\n",
        "\n",
        "$$\n",
        "\\min \\sum_{i=1}^{m} b_iy_i + \\sum_{j=1}^{n} \\beta_j\\\\\n",
        "\\text{s.t.} \\sum_{i=1}^{m} a_{ij}y_i + \\beta_j \\geq \\pi_j, \\quad j=1,\\ldots,n.\\\\\n",
        "y_i, \\beta_j \\geq 0 \\text{ for all } i, j\n",
        "$$\n",
        "\n",
        "From previous questions, we know that the primal optimal solution satisfies:\n",
        "$$\n",
        "x_j^* =\n",
        "\\begin{cases}\n",
        "1, & \\text{if } \\pi_j > a_j^T y_k^* \\\\\n",
        "0, & \\text{if } \\pi_j \\leq a_j^T y_k^*.\n",
        "\\end{cases}\n",
        "$$\n",
        "\n",
        "the optimal solution $x_j$ may take non-integer values. That means the optimal solution of primary problem (1) highly depends on $y$. So by plugging the constraints $\\sum_{i=1}^{m} a_{ij}y_i + \\beta_j \\geq \\pi_j$ into the objective function, an equivalent form of the dual problem can be obtained as:\n",
        "$$\n",
        "\\min \\sum_{i=1}^{m} b_i y_i + \\sum_{j=1}^{n} \\left( \\pi_j - \\sum_{i=1}^{m} a_{ij} y_i \\right)^+\\\\\n",
        "\\text{s.t. } y_i \\geq 0, \\quad i = 1, \\ldots, m.\n",
        "$$\n",
        "\n",
        "And if we devide it by $n$, from above we know that $\\mathbf{d} = \\frac{\\mathbf{b}}{n}$, so we now have:\n",
        "$$\n",
        "\\min f_n(\\bar{\\mathbf{y}}) = \\sum_{i=1}^{m} d_i y_i + \\frac{1}{n} \\sum_{j=1}^{n} \\left( \\pi_j - \\sum_{i=1}^{m} a_{ij} y_i \\right)^+\\\\\n",
        "\\text{s.t. } y_i \\geq 0, \\quad i = 1, \\ldots, m.\n",
        "$$\n",
        "\n",
        "Since $(\\pi, a)$ is a sequence of i.i.d. random vectors, we can also write this formulation as:\n",
        "\n",
        "$$\n",
        "\\begin{align*}\n",
        "\\text{minimize}_{\\bar{\\mathbf{y}}} \\; & \\;\\mathbf{d}^T \\bar{\\mathbf{y}} + \\mathbb{E}\\left(\\pi - \\mathbf{a}^T \\bar{\\mathbf{y}}\\right)^+ \\\\\n",
        "\\text{s.t. } & \\bar{\\mathbf{y}} \\geq 0\n",
        "\\end{align*}\n",
        "$$\n",
        "\n",
        "where the expectation is taken with respect to $(\\pi, a)$.\n"
      ],
      "metadata": {
        "id": "RCFy7qPn5jQg"
      }
    }
  ]
}