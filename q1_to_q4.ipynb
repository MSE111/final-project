{
  "nbformat": 4,
  "nbformat_minor": 0,
  "metadata": {
    "colab": {
      "provenance": []
    },
    "kernelspec": {
      "name": "python3",
      "display_name": "Python 3"
    },
    "language_info": {
      "name": "python"
    }
  },
  "cells": [
    {
      "cell_type": "code",
      "execution_count": 22,
      "metadata": {
        "id": "YDT4PPaNyGTp"
      },
      "outputs": [],
      "source": [
        "import numpy as np\n",
        "from scipy.optimize import linprog\n",
        "\n",
        "def generate_bids(n, m, p_bar):\n",
        "    \"\"\"\n",
        "    Generate a sequence of random bids.\n",
        "    :param n: Total number of bids.\n",
        "    :param m: Number of items.\n",
        "    :param p_bar: Ground truth price vector.\n",
        "    :return: Array of bids.\n",
        "    \"\"\"\n",
        "    bids = []\n",
        "    for _ in range(n):\n",
        "        a_k = np.random.choice([0, 1], size=m)  # Generate a_k\n",
        "        pi_k = np.dot(p_bar, a_k) + np.random.normal(0, np.sqrt(0.2))  # Calculate bid price\n",
        "        bids.append((a_k, pi_k))\n",
        "    return bids\n",
        "\n",
        "def solve_offline_lp(bids, m, b_i):\n",
        "    c = -np.array([pi_k for _, pi_k in bids])  # Negative for maximization\n",
        "    A = np.array([a_k for a_k, _ in bids]).T  # Transpose to match dimensions\n",
        "    b = b_i * np.ones(m)\n",
        "\n",
        "    # Solving the LP\n",
        "    result = linprog(c, A_ub=A, b_ub=b, bounds=(0, 1), method='highs')\n",
        "\n",
        "    if result.success:\n",
        "        return -result.fun  # Revenue (negate because of maximization)\n",
        "    else:\n",
        "        raise ValueError(\"Offline LP did not converge\")\n",
        "\n",
        "def solve_partial_lp_dual(bids, k, n, b_i):\n",
        "    # Objective function: maximize sum(pi_j * x_j) for j=1 to k\n",
        "    c = -np.array([pi_k for _, pi_k in bids[:k]])\n",
        "\n",
        "    # Constraints: sum(a_ij * x_j) <= (k/n) * b_i for all i\n",
        "    A = np.array([a_k for a_k, _ in bids[:k]]).T\n",
        "    b = (k / n) * np.array(b_i)\n",
        "\n",
        "    # Bounds for decision variables: 0 <= x_j <= 1\n",
        "    x_bounds = [(0, 1) for _ in range(k)]\n",
        "\n",
        "    # Solve the linear program\n",
        "    result = linprog(c, A_ub=A, b_ub=b, bounds=x_bounds, method='highs')\n",
        "\n",
        "    # print(result.ineqlin.get('marginals'))\n",
        "\n",
        "    if result.success:\n",
        "        # The dual variable corresponding to the inequality constraints A_ub * x <= b_ub\n",
        "        return result.get('slack'), -1*result.ineqlin.get('marginals'), result.get('fun')\n",
        "    else:\n",
        "        raise ValueError(\"failed to find a solution\")"
      ]
    },
    {
      "cell_type": "code",
      "source": [
        "offline_revenue_value = 0\n",
        "diff_dplm = []\n",
        "diff_ahdla = []\n",
        "revenues = {}\n",
        "\n",
        "n = 10000  # Total number of bids\n",
        "m = 10     # Number of items\n",
        "b_i = np.ones(m) * 1000  # Bid cap for all i\n",
        "# Fixed ground truth price vector (p_bar) - set to ones for simplicity\n",
        "p_bar = np.ones(m)  # Vector of ones\n",
        "k_values = [50, 100, 200]  # Different k values to test\n",
        "# Regenerate bids with the fixed p_bar\n",
        "bids_fixed = generate_bids(n, m, p_bar)\n",
        "\n",
        "# offline\n",
        "offline_revenue_value = solve_offline_lp(bids_fixed, m, b_i)\n",
        "print(f\"Offline revenue: {offline_revenue_value}\")"
      ],
      "metadata": {
        "colab": {
          "base_uri": "https://localhost:8080/"
        },
        "id": "V6blivPuUqqF",
        "outputId": "f290c345-3594-47ce-bb2e-6e5905e8279b"
      },
      "execution_count": 23,
      "outputs": [
        {
          "output_type": "stream",
          "name": "stdout",
          "text": [
            "Offline revenue: 11278.760022689978\n"
          ]
        }
      ]
    },
    {
      "cell_type": "code",
      "source": [
        "# Problem 1\n",
        "def run_slpm_static(bids, k, n, b_i):\n",
        "    revenue = 0\n",
        "    remaining_capacity = np.array(b_i)\n",
        "    # Solve the partial LP for the first k bids to get dual prices\n",
        "    slack, dual_price, k_revenue = solve_partial_lp_dual(bids, k, n, b_i)\n",
        "    # revenue += -k_revenue\n",
        "    # remaining_capacity = np.array(b_i-((k/n)*b_i-slack))\n",
        "\n",
        "    for i, (a_k, pi_k) in enumerate(bids):\n",
        "        if i >= k:\n",
        "            # Allocate based on the decision rule using y_bar\n",
        "            if pi_k > np.dot(a_k, dual_price) and all(remaining_capacity - a_k >= 0):\n",
        "                revenue += pi_k\n",
        "                remaining_capacity -= a_k\n",
        "\n",
        "    return revenue\n",
        "\n",
        "for k in k_values:\n",
        "    revenue = run_slpm_static(bids_fixed, k, n, b_i)\n",
        "    revenues[k] = revenue\n",
        "\n",
        "for slpm_revenue, k in zip(revenues.values(), k_values):\n",
        "    print(f\"SLPM Static revenue: {slpm_revenue} at k={k}\")"
      ],
      "metadata": {
        "colab": {
          "base_uri": "https://localhost:8080/"
        },
        "id": "RFr4T2zRUtqP",
        "outputId": "7dc83f99-785d-4af1-915d-8dd50222d15e"
      },
      "execution_count": 24,
      "outputs": [
        {
          "output_type": "stream",
          "name": "stdout",
          "text": [
            "SLPM Static revenue: 7946.102425497156 at k=50\n",
            "SLPM Static revenue: 8585.045896244157 at k=100\n",
            "SLPM Static revenue: 9003.992666057029 at k=200\n"
          ]
        }
      ]
    },
    {
      "cell_type": "markdown",
      "source": [
        "The increase in revenue as k grows suggests that having more bidder information upfront (i.e., a larger k) allows the algorithm to make more informed decisions which result in higher revenue.\n",
        "\n",
        "It may have two tradeoffs here, one is tradeoff between cost of computation and accuracy, since with a large k we will need more compuration resources. Another tradeoff is that a larger k implies a delay in decision-making since more bids must be collected before making allocations, which could be a trade-off in real-time scenarios.\n"
      ],
      "metadata": {
        "id": "Rr6idxluV1So"
      }
    },
    {
      "cell_type": "code",
      "source": [
        "# Problem 2\n",
        "def run_slpm_dynamic(bids, k, n, b_i):\n",
        "    global offline_revenue_value\n",
        "    global diff_dplm\n",
        "    revenue = 0\n",
        "    remaining_capacity = np.array(b_i)\n",
        "\n",
        "    # Solve the partial LP for the first k bids to get dual prices\n",
        "    slack, dual_price, k_revenue = solve_partial_lp_dual(bids, k, n, b_i)\n",
        "    # revenue += -k_revenue\n",
        "    # remaining_capacity = np.array(b_i-((k/n)*b_i-slack))\n",
        "\n",
        "    target = 2*k\n",
        "\n",
        "    for i, (a_k, pi_k) in enumerate(bids):\n",
        "        if i >= k:\n",
        "            if i == target:\n",
        "                slack, dual_price, _ = solve_partial_lp_dual(bids, target, n, b_i)\n",
        "                print(dual_price)\n",
        "                target *= 2\n",
        "            # Allocate based on the decision rule using y_bar\n",
        "            if pi_k > np.dot(a_k, dual_price) and all(remaining_capacity - a_k >= 0):\n",
        "                revenue += pi_k\n",
        "                remaining_capacity -= a_k\n",
        "            diff_dplm.append(revenue-((i+1)/n)*offline_revenue_value)\n",
        "\n",
        "\n",
        "    return revenue\n",
        "\n",
        "revenue = run_slpm_dynamic(bids_fixed, 50, n, b_i)\n",
        "print(f\"SLPM Dynamic revenue: {revenue}\")\n",
        "print(diff_dplm[:20]) # print first 20 results"
      ],
      "metadata": {
        "colab": {
          "base_uri": "https://localhost:8080/"
        },
        "id": "nclcty1tUwj8",
        "outputId": "8dbfc86e-359f-49a1-a4d4-8ed2cc8346cf"
      },
      "execution_count": 25,
      "outputs": [
        {
          "output_type": "stream",
          "name": "stdout",
          "text": [
            "[1.36399448 1.04637229 1.3192829  0.92944647 1.26905288 0.85594318\n",
            " 1.18753854 0.77524893 1.15166002 0.94607069]\n",
            "[1.19158957 1.08720415 1.28265014 0.93659364 1.16408775 0.88542876\n",
            " 1.22844082 0.91389874 1.21284521 0.8786309 ]\n",
            "[1.0704612  1.08507548 1.13982916 0.99396032 1.18144012 0.97088307\n",
            " 1.09962528 1.00153899 1.14645071 1.0934824 ]\n",
            "[1.04938082 1.12092066 1.07679728 0.94438778 1.09669608 1.0953436\n",
            " 1.07120464 1.10074812 1.1402577  1.03258736]\n",
            "[1.05989239 1.10486867 1.05348324 1.0340607  1.07839765 1.06427942\n",
            " 1.05486896 1.06487845 1.11898178 1.04984909]\n",
            "[1.07672001 1.08003599 1.07202719 1.05643838 1.0785131  1.06851211\n",
            " 1.04290777 1.04012863 1.09827287 1.06871412]\n",
            "[1.08175913 1.08313698 1.08080695 1.06962653 1.0476169  1.06972063\n",
            " 1.04714585 1.05661838 1.08083892 1.07766222]\n",
            "SLPM Dynamic revenue: 10962.96447659947\n",
            "[-57.52167611571889, -58.64955211798788, -56.288437583116014, -53.34435613938545, -54.47223214165444, -55.600108143923435, -56.72798414619244, -54.22115207790712, -55.34902808017611, -50.08132809970895, -51.20920410197795, -46.17987750234995, -47.30775350461896, -41.37530069648811, -42.5031766987571, -43.63105270102611, -44.75892870329511, -45.8868047055641, -47.014680707833094, -48.1425567101021]\n"
          ]
        }
      ]
    },
    {
      "cell_type": "markdown",
      "source": [
        "In this question, instead of using a fixed dual price, we update our dual price on k= [50, 100, 200, 400, 800, ...], and using this stratege, we can get better performance than with fixed dual price, 10905.843288804756 compare to revenue in question above.\n",
        "\n",
        "Also we print all dual price on each update time point. As we can see, it approches to the ground true price p = [1,1,...,1,1] we set before."
      ],
      "metadata": {
        "id": "QFAHdmSyWJpf"
      }
    },
    {
      "cell_type": "code",
      "source": [
        "# Problem 3\n",
        "def run_ahdla(bids, k, n, b_i):\n",
        "    global offline_revenue_value\n",
        "    global diff_ahdla\n",
        "    batch = 50\n",
        "    revenue = 0\n",
        "    dual_price = np.zeros(m)\n",
        "    remaining_capacity = b_i\n",
        "    target = batch*k\n",
        "\n",
        "    for i, (a_k, pi_k) in enumerate(bids):\n",
        "        # Allocate based on the decision rule using y_bar\n",
        "        if pi_k > np.dot(a_k, dual_price) and all(remaining_capacity - a_k >= 0):\n",
        "            revenue += pi_k\n",
        "            remaining_capacity -= a_k\n",
        "        diff_ahdla.append(revenue-((i+1)/n)*offline_revenue_value)\n",
        "        if i == target and i < n-1:\n",
        "            _, dual_price, _ = solve_partial_lp_dual(bids, i+1, n, (n/(n-i-1))*remaining_capacity)\n",
        "            target += batch\n",
        "\n",
        "    return revenue\n",
        "\n",
        "revenue = run_ahdla(bids_fixed, 1, n, b_i)\n",
        "print(f\"Action-history-dependent Learning Algorithm revenue: {revenue}\")\n",
        "print(diff_ahdla[:20]) # print first 20 results"
      ],
      "metadata": {
        "colab": {
          "base_uri": "https://localhost:8080/"
        },
        "id": "CowYaNqZUx77",
        "outputId": "8617869a-19f4-468b-f96c-7b37ae159e36"
      },
      "execution_count": 26,
      "outputs": [
        {
          "output_type": "stream",
          "name": "stdout",
          "text": [
            "Action-history-dependent Learning Algorithm revenue: 11218.729611116973\n",
            "[3.356617676756824, 7.424102920000092, 12.25324062469539, 19.398064611603296, 20.814323479169197, 23.474200353860574, 24.313835009035294, 28.725784133496077, 33.95104524690729, 39.278709473807986, 43.912947815189085, 50.48963709645349, 55.82200619618709, 58.238943771187735, 63.75860938564638, 70.88045045286779, 75.9574661907486, 80.36276282845957, 81.97824566211598, 82.55591033205064]\n"
          ]
        }
      ]
    },
    {
      "cell_type": "markdown",
      "source": [
        "In Action-history-dependent Learning Algorithm, instead of updating dual price in a frequency of [50, 100, 200, ...], we update it for each batch, we set 50 here. And as we can see, the revenue is higher than what we got from problem 2.\n",
        "\n",
        "Hence Action-history-dependent Learning Algorithm have better performance. Becuase it also update with remaining capacity information.\n",
        "\n",
        "As we can see in the difference vector, compared with problem 2, (see result on problem2), Action-history-dependent Learning Algorithm is closer to partial of optimal solution at each time point."
      ],
      "metadata": {
        "id": "rTKOukdmWp50"
      }
    },
    {
      "cell_type": "markdown",
      "source": [
        "# Problem 4\n",
        "## Convexity\n",
        "\n",
        "The Formulation (3) in question is as follows:\n",
        "\n",
        "\\begin{align*}\n",
        "\\text{minimize}_{\\bar{\\mathbf{y}}} \\; & \\;\\mathbf{d}^T \\bar{\\mathbf{y}} + \\mathbb{E}\\left(\\pi - \\mathbf{a}^T \\bar{\\mathbf{y}}\\right)^+ \\\\\n",
        "\\text{s.t. } & \\bar{\\mathbf{y}} \\geq 0\n",
        "\\end{align*}\n",
        "\n",
        "where $\\mathbf{d} = \\frac{\\mathbf{b}}{n}$ and $(\\cdot)^+ = \\max \\{\\cdot, 0\\}$.\n",
        "\n",
        "To identify whether (3) is a convex optimization problem or not, we can analyze each part of (3) separately.\n",
        "\n",
        "For the first part $\\mathbf{d}^T \\bar{\\mathbf{y}}$ of (3), $\\mathbf{d}^T \\bar{\\mathbf{y}}$ is liner in $\\bar{\\mathbf{y}}$. We know that linear functions are both convex and concave.\n",
        "\n",
        "For the second part $\\mathbb{E}\\left(\\pi - \\mathbf{a}^T \\bar{\\mathbf{y}}\\right)^+$, since $\\pi - \\mathbf{a}^T \\bar{\\mathbf{y}}$ is linear in $\\bar{\\mathbf{y}}$. What $(\\cdot)^+$ does is to get maximum value between this linear function and zero, since both of them are convex, $\\left(\\pi - \\mathbf{a}^T \\bar{\\mathbf{y}}\\right)^+$ is also convex. The last part we need to consider is the expectation. From Jensen's inequality:\n",
        "\n",
        "$$\\mathbb{E}[f(X)]≥f(\\mathbb{E}[X])$$\n",
        "\n",
        "we know that if $f(x)$ is convex, then $\\mathbb{E}[f(x)]$ is also convex. Therefore, $\\mathbb{E}\\left(\\pi - \\mathbf{a}^T \\bar{\\mathbf{y}}\\right)^+$ is convex.\n",
        "\n",
        "Since both parts of (3) are convex, we know that (3) is a convex optimization problem.\n",
        "\n",
        "## Connection\n",
        "\n",
        "The dual problem of (1) is:\n",
        "\n",
        "$$\n",
        "\\min \\sum_{i=1}^{m} b_iy_i + \\sum_{j=1}^{n} \\beta_j\\\\\n",
        "\\text{s.t.} \\sum_{i=1}^{m} a_{ij}y_i + \\beta_j \\geq \\pi_j, \\quad j=1,\\ldots,n.\\\\\n",
        "y_i, \\beta_j \\geq 0 \\text{ for all } i, j\n",
        "$$\n",
        "\n",
        "From previous questions, we know that the primal optimal solution satisfies:\n",
        "$$\n",
        "x_j^* =\n",
        "\\begin{cases}\n",
        "1, & \\text{if } \\pi_j > a_j^T y_k^* \\\\\n",
        "0, & \\text{if } \\pi_j \\leq a_j^T y_k^*.\n",
        "\\end{cases}\n",
        "$$\n",
        "\n",
        "the optimal solution $x_j$ may take non-integer values. That means the optimal solution of primary problem (1) highly depends on $y$. So by plugging the constraints $\\sum_{i=1}^{m} a_{ij}y_i + \\beta_j \\geq \\pi_j$ into the objective function, an equivalent form of the dual problem can be obtained as:\n",
        "$$\n",
        "\\min \\sum_{i=1}^{m} b_i y_i + \\sum_{j=1}^{n} \\left( \\pi_j - \\sum_{i=1}^{m} a_{ij} y_i \\right)^+\\\\\n",
        "\\text{s.t. } y_i \\geq 0, \\quad i = 1, \\ldots, m.\n",
        "$$\n",
        "\n",
        "And if we devide it by $n$, from above we know that $\\mathbf{d} = \\frac{\\mathbf{b}}{n}$, so we now have:\n",
        "$$\n",
        "\\min f_n(\\bar{\\mathbf{y}}) = \\sum_{i=1}^{m} d_i y_i + \\frac{1}{n} \\sum_{j=1}^{n} \\left( \\pi_j - \\sum_{i=1}^{m} a_{ij} y_i \\right)^+\\\\\n",
        "\\text{s.t. } y_i \\geq 0, \\quad i = 1, \\ldots, m.\n",
        "$$\n",
        "\n",
        "Since $(\\pi, a)$ is a sequence of i.i.d. random vectors, we can also write this formulation as:\n",
        "\n",
        "$$\n",
        "\\begin{align*}\n",
        "\\text{minimize}_{\\bar{\\mathbf{y}}} \\; & \\;\\mathbf{d}^T \\bar{\\mathbf{y}} + \\mathbb{E}\\left(\\pi - \\mathbf{a}^T \\bar{\\mathbf{y}}\\right)^+ \\\\\n",
        "\\text{s.t. } & \\bar{\\mathbf{y}} \\geq 0\n",
        "\\end{align*}\n",
        "$$\n",
        "\n",
        "where the expectation is taken with respect to $(\\pi, a)$.\n"
      ],
      "metadata": {
        "id": "RCFy7qPn5jQg"
      }
    }
  ]
}